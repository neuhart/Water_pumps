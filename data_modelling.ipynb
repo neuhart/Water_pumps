{
 "cells": [
  {
   "cell_type": "code",
   "execution_count": 155,
   "metadata": {
    "collapsed": true,
    "pycharm": {
     "name": "#%%\n"
    }
   },
   "outputs": [],
   "source": [
    "import pandas as pd\n",
    "import numpy as np\n",
    "import matplotlib.pyplot as plt\n",
    "from sklearn.preprocessing import StandardScaler, OneHotEncoder\n",
    "from sklearn.compose import ColumnTransformer\n",
    "from sklearn.pipeline import Pipeline\n",
    "from sklearn.model_selection import train_test_split, GridSearchCV\n",
    "from sklearn.metrics import accuracy_score, confusion_matrix, ConfusionMatrixDisplay\n",
    "from sklearn.ensemble import RandomForestClassifier\n",
    "import joblib"
   ]
  },
  {
   "cell_type": "code",
   "execution_count": 156,
   "outputs": [],
   "source": [
    "filename = \"data/cleaned_data.csv\"\n",
    "df = pd.read_csv(filename)"
   ],
   "metadata": {
    "collapsed": false,
    "pycharm": {
     "name": "#%%\n"
    }
   }
  },
  {
   "cell_type": "code",
   "execution_count": 157,
   "outputs": [
    {
     "name": "stdout",
     "output_type": "stream",
     "text": [
      "<class 'pandas.core.frame.DataFrame'>\n",
      "RangeIndex: 43800 entries, 0 to 43799\n",
      "Data columns (total 19 columns):\n",
      " #   Column             Non-Null Count  Dtype  \n",
      "---  ------             --------------  -----  \n",
      " 0   id                 43800 non-null  int64  \n",
      " 1   amount_tsh         43800 non-null  float64\n",
      " 2   gps_height         43800 non-null  int64  \n",
      " 3   installer          43800 non-null  object \n",
      " 4   longitude          43800 non-null  float64\n",
      " 5   latitude           43800 non-null  float64\n",
      " 6   basin              43800 non-null  object \n",
      " 7   region             43800 non-null  object \n",
      " 8   region_code        43800 non-null  int64  \n",
      " 9   district_code      43800 non-null  int64  \n",
      " 10  population         43800 non-null  int64  \n",
      " 11  construction_year  43800 non-null  int64  \n",
      " 12  extraction_type    43800 non-null  object \n",
      " 13  payment_type       43800 non-null  object \n",
      " 14  quantity           43800 non-null  object \n",
      " 15  source             43800 non-null  object \n",
      " 16  waterpoint_type    43800 non-null  object \n",
      " 17  status_group       43800 non-null  object \n",
      " 18  status             43800 non-null  float64\n",
      "dtypes: float64(4), int64(6), object(9)\n",
      "memory usage: 6.3+ MB\n"
     ]
    }
   ],
   "source": [
    "df.info()"
   ],
   "metadata": {
    "collapsed": false,
    "pycharm": {
     "name": "#%%\n"
    }
   }
  },
  {
   "cell_type": "markdown",
   "source": [
    "We need to select the columns we want to use for the modelling part.\n",
    "This selection process going to be an iterative process.\n"
   ],
   "metadata": {
    "collapsed": false,
    "pycharm": {
     "name": "#%% md\n"
    }
   }
  },
  {
   "cell_type": "code",
   "execution_count": 158,
   "outputs": [],
   "source": [
    "feat_cols = [\"amount_tsh\", \"gps_height\", \"longitude\", \"latitude\", \"population\", \"construction_year\", \"extraction_type\", \"payment_type\", \"quantity\", \"source\", \"waterpoint_type\"]\n",
    "feat_df = df[feat_cols]"
   ],
   "metadata": {
    "collapsed": false,
    "pycharm": {
     "name": "#%%\n"
    }
   }
  },
  {
   "cell_type": "markdown",
   "source": [
    "## Create Pipeline"
   ],
   "metadata": {
    "collapsed": false,
    "pycharm": {
     "name": "#%% md\n"
    }
   }
  },
  {
   "cell_type": "code",
   "execution_count": 159,
   "outputs": [],
   "source": [
    "numerical_cols = feat_df.select_dtypes('number').columns\n",
    "categorical_cols = pd.Index(np.setdiff1d(feat_df.columns, numerical_cols))\n",
    "\n",
    "numerical_pipe = Pipeline([\n",
    "    ('scaler', StandardScaler())])\n",
    "\n",
    "categorical_pipe = Pipeline([(\n",
    "    'encoder', OneHotEncoder(handle_unknown='error'))])\n",
    "\n",
    "preprocessors = ColumnTransformer(transformers=[\n",
    "    ('num', numerical_pipe, numerical_cols),\n",
    "    ('cat', categorical_pipe, categorical_cols)\n",
    "    ])\n",
    "\n",
    "pipe = Pipeline([('preprocessors', preprocessors), ('model', RandomForestClassifier())])"
   ],
   "metadata": {
    "collapsed": false,
    "pycharm": {
     "name": "#%%\n"
    }
   }
  },
  {
   "cell_type": "markdown",
   "source": [
    "### Divide into Train and test data"
   ],
   "metadata": {
    "collapsed": false,
    "pycharm": {
     "name": "#%% md\n"
    }
   }
  },
  {
   "cell_type": "code",
   "execution_count": 160,
   "outputs": [],
   "source": [
    "X_train, X_test, y_train, y_test = train_test_split(feat_df, df[\"status_group\"], test_size=0.2, random_state=42)"
   ],
   "metadata": {
    "collapsed": false,
    "pycharm": {
     "name": "#%%\n"
    }
   }
  },
  {
   "cell_type": "markdown",
   "source": [
    "## Gridsearch with 4-fold cross validation"
   ],
   "metadata": {
    "collapsed": false,
    "pycharm": {
     "name": "#%% md\n"
    }
   }
  },
  {
   "cell_type": "code",
   "execution_count": 161,
   "outputs": [
    {
     "data": {
      "text/plain": "['./model_pipe.joblib']"
     },
     "execution_count": 161,
     "metadata": {},
     "output_type": "execute_result"
    }
   ],
   "source": [
    "parameters = {'model__n_estimators': (100,300, 400),'model__max_depth': (5,10, 15 ,20)}\n",
    "model = GridSearchCV(pipe, parameters, cv=4)\n",
    "model.fit(X_train,y_train)"
   ],
   "metadata": {
    "collapsed": false,
    "pycharm": {
     "name": "#%%\n"
    }
   }
  },
  {
   "cell_type": "markdown",
   "source": [
    "## Plot gridsearch results (accuracy and confusion matrix)"
   ],
   "metadata": {
    "collapsed": false,
    "pycharm": {
     "name": "#%% md\n"
    }
   }
  },
  {
   "cell_type": "code",
   "execution_count": 164,
   "outputs": [
    {
     "data": {
      "text/plain": "<Figure size 432x288 with 1 Axes>",
      "image/png": "[encoded data removed]"
     },
     "metadata": {
      "needs_background": "light"
     },
     "output_type": "display_data"
    },
    {
     "name": "stdout",
     "output_type": "stream",
     "text": [
      "Best hyperparameter settings: {'model__max_depth': 20, 'model__n_estimators': 400}\n",
      "0.8111872146118722\n"
     ]
    },
    {
     "data": {
      "text/plain": "<Figure size 432x288 with 2 Axes>",
      "image/png": "[encoded data removed]"
     },
     "metadata": {
      "needs_background": "light"
     },
     "output_type": "display_data"
    }
   ],
   "source": [
    "plt.plot(np.arange(model.cv_results_.get('mean_test_score').size), model.cv_results_.get('mean_test_score'), marker=\"x\")\n",
    "plt.title(\"Gridsearch\")\n",
    "plt.show()\n",
    "print('Best hyperparameter settings: {}'.format(model.best_params_))\n",
    "\n",
    "preds = model.predict(X_test)\n",
    "\n",
    "print(accuracy_score(y_test, preds))\n",
    "cm = confusion_matrix(y_test, preds)\n",
    "cmd = ConfusionMatrixDisplay(confusion_matrix=cm)\n",
    "cmd.plot()\n",
    "plt.show()"
   ],
   "metadata": {
    "collapsed": false,
    "pycharm": {
     "name": "#%%\n"
    }
   }
  },
  {
   "cell_type": "markdown",
   "source": [
    "Save model"
   ],
   "metadata": {
    "collapsed": false,
    "pycharm": {
     "name": "#%% md\n"
    }
   }
  },
  {
   "cell_type": "code",
   "execution_count": null,
   "outputs": [],
   "source": [
    "joblib.dump(model, \"./model_pipe.joblib\")"
   ],
   "metadata": {
    "collapsed": false,
    "pycharm": {
     "name": "#%%\n"
    }
   }
  }
 ],
 "metadata": {
  "kernelspec": {
   "display_name": "Python 3",
   "language": "python",
   "name": "python3"
  },
  "language_info": {
   "codemirror_mode": {
    "name": "ipython",
    "version": 2
   },
   "file_extension": ".py",
   "mimetype": "text/x-python",
   "name": "python",
   "nbconvert_exporter": "python",
   "pygments_lexer": "ipython2",
   "version": "2.7.6"
  }
 },
 "nbformat": 4,
 "nbformat_minor": 0
}