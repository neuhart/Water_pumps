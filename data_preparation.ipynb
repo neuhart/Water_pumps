{
 "cells": [
  {
   "cell_type": "code",
   "execution_count": 43,
   "outputs": [],
   "source": [
    "import pandas as pd"
   ],
   "metadata": {
    "collapsed": false,
    "pycharm": {
     "name": "#%%\n"
    }
   }
  },
  {
   "cell_type": "code",
   "execution_count": 44,
   "outputs": [],
   "source": [
    "feature_filename = \"data/Features.csv\"\n",
    "label_filename = \"data/Labels.csv\"\n",
    "df_feat = pd.read_csv(feature_filename)\n",
    "df_label = pd.read_csv(label_filename)\n",
    "df = pd.merge(df_feat, df_label, on='id', how='inner')"
   ],
   "metadata": {
    "collapsed": false,
    "pycharm": {
     "name": "#%%\n"
    }
   }
  },
  {
   "cell_type": "markdown",
   "source": [
    "# Data Cleaning"
   ],
   "metadata": {
    "collapsed": false,
    "pycharm": {
     "name": "#%% md\n"
    }
   }
  },
  {
   "cell_type": "markdown",
   "source": [
    "## Drop columns\n",
    "for more details on why these columns are dropped please refer to the data_understanding.ipynb file"
   ],
   "metadata": {
    "collapsed": false,
    "pycharm": {
     "name": "#%% md\n"
    }
   }
  },
  {
   "cell_type": "code",
   "execution_count": 45,
   "metadata": {
    "collapsed": true,
    "pycharm": {
     "name": "#%%\n"
    }
   },
   "outputs": [],
   "source": [
    "df.drop([\"date_recorded\", \"scheme_name\", \"num_private\", \"funder\", \"wpt_name\", \"subvillage\", \"lga\", \"ward\", \"public_meeting\", \"recorded_by\", \"permit\", \"extraction_type_group\", \"extraction_type_class\", \"scheme_management\", \"management\", \"management_group\",\"payment\", \"water_quality\", \"quality_group\", \"quantity_group\", \"source_type\" ,\"source_class\", \"waterpoint_type_group\"], inplace=True, axis=1)"
   ]
  },
  {
   "cell_type": "markdown",
   "source": [
    "## Remove outliers and drop null values\n",
    "for more details on why I chose to remove these outliers and how I came up with the thresholds please refer to the data_understanding.ipynb file"
   ],
   "metadata": {
    "collapsed": false,
    "pycharm": {
     "name": "#%% md\n"
    }
   }
  },
  {
   "cell_type": "code",
   "execution_count": 46,
   "outputs": [
    {
     "name": "stdout",
     "output_type": "stream",
     "text": [
      "<class 'pandas.core.frame.DataFrame'>\n",
      "Int64Index: 45539 entries, 1 to 59399\n",
      "Data columns (total 18 columns):\n",
      " #   Column             Non-Null Count  Dtype  \n",
      "---  ------             --------------  -----  \n",
      " 0   id                 45539 non-null  int64  \n",
      " 1   amount_tsh         45539 non-null  float64\n",
      " 2   gps_height         45539 non-null  int64  \n",
      " 3   installer          45539 non-null  object \n",
      " 4   longitude          45539 non-null  float64\n",
      " 5   latitude           45539 non-null  float64\n",
      " 6   basin              45539 non-null  object \n",
      " 7   region             45539 non-null  object \n",
      " 8   region_code        45539 non-null  int64  \n",
      " 9   district_code      45539 non-null  int64  \n",
      " 10  population         45539 non-null  int64  \n",
      " 11  construction_year  45539 non-null  int64  \n",
      " 12  extraction_type    45539 non-null  object \n",
      " 13  payment_type       45539 non-null  object \n",
      " 14  quantity           45539 non-null  object \n",
      " 15  source             45539 non-null  object \n",
      " 16  waterpoint_type    45539 non-null  object \n",
      " 17  status_group       45539 non-null  object \n",
      "dtypes: float64(3), int64(6), object(9)\n",
      "memory usage: 6.6+ MB\n"
     ]
    }
   ],
   "source": [
    "df = df[df[\"amount_tsh\"] <= 120]\n",
    "df = df[df[\"population\"] <= 10000]\n",
    "\n",
    "df.dropna(inplace=True)\n",
    "df.info()"
   ],
   "metadata": {
    "collapsed": false,
    "pycharm": {
     "name": "#%%\n"
    }
   }
  },
  {
   "cell_type": "markdown",
   "source": [
    "## Reduce Categories of Categorical Features"
   ],
   "metadata": {
    "collapsed": false,
    "pycharm": {
     "name": "#%% md\n"
    }
   }
  },
  {
   "cell_type": "code",
   "execution_count": 47,
   "outputs": [],
   "source": [
    "df.query(\"quantity != 'unknown'\",inplace=True) # drop \"unknown\" category from quantity feature\n",
    "\n",
    "# drop three categories in the waterpoint_type feature since there are only very few instances with those \"waterpoint_type\"-values\n",
    "df = df[~df[\"waterpoint_type\"].isin(['improved spring', 'cattle trough', 'dam'])]\n",
    "\n",
    "df = df.groupby(\"extraction_type\").filter(lambda x: len(x) > 100) #use only those categories for which at least 100 instances exist in the data set"
   ],
   "metadata": {
    "collapsed": false,
    "pycharm": {
     "name": "#%%\n"
    }
   }
  },
  {
   "cell_type": "markdown",
   "source": [
    "# Feature Engineering"
   ],
   "metadata": {
    "collapsed": false,
    "pycharm": {
     "name": "#%% md\n"
    }
   }
  },
  {
   "cell_type": "code",
   "execution_count": 48,
   "outputs": [],
   "source": [
    "def create_target_var(x):\n",
    "    \"\"\"Numerical encoding of target variable\"\"\"\n",
    "\n",
    "    if x == \"functional\":\n",
    "        return 0\n",
    "    elif x == \"functional needs repair\":\n",
    "        return 0.5\n",
    "    elif x == \"non functional\":\n",
    "        return 1\n",
    "    else:\n",
    "        raise \"wrong input!\"\n",
    "\n",
    "df[\"status\"] = df[\"status_group\"].apply(create_target_var)"
   ],
   "metadata": {
    "collapsed": false,
    "pycharm": {
     "name": "#%%\n"
    }
   }
  },
  {
   "cell_type": "code",
   "execution_count": 49,
   "outputs": [],
   "source": [
    "df.to_csv(\"data/cleaned_data.csv\", index=False)"
   ],
   "metadata": {
    "collapsed": false,
    "pycharm": {
     "name": "#%%\n"
    }
   }
  }
 ],
 "metadata": {
  "kernelspec": {
   "display_name": "Python 3",
   "language": "python",
   "name": "python3"
  },
  "language_info": {
   "codemirror_mode": {
    "name": "ipython",
    "version": 2
   },
   "file_extension": ".py",
   "mimetype": "text/x-python",
   "name": "python",
   "nbconvert_exporter": "python",
   "pygments_lexer": "ipython2",
   "version": "2.7.6"
  }
 },
 "nbformat": 4,
 "nbformat_minor": 0
}